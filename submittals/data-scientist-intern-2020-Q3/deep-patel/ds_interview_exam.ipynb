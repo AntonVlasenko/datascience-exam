{
  "nbformat": 4,
  "nbformat_minor": 0,
  "metadata": {
    "kernelspec": {
      "display_name": "Python [conda env:bombora-datascience-exam]",
      "language": "python",
      "name": "conda-env-bombora-datascience-exam-py"
    },
    "language_info": {
      "codemirror_mode": {
        "name": "ipython",
        "version": 3
      },
      "file_extension": ".py",
      "mimetype": "text/x-python",
      "name": "python",
      "nbconvert_exporter": "python",
      "pygments_lexer": "ipython3",
      "version": "3.5.2"
    },
    "colab": {
      "name": "ds-interview-exam.ipynb",
      "provenance": []
    }
  },
  "cells": [
    {
      "cell_type": "markdown",
      "metadata": {
        "id": "RFbc-x_a0uqy",
        "colab_type": "text"
      },
      "source": [
        "<div class=\"clearfix\" style=\"padding: 10px; padding-left: 0px\">\n",
        "<a href=\"http://bombora.com\"><img src=\"https://app.box.com/shared/static/e0j9v1xjmubit0inthhgv3llwnoansjp.png\" width=\"200px\" class=\"pull-right\" style=\"display: inline-block; margin: 5px; vertical-align: middle;\"></a>\n",
        "<h1> Bombora Data Science: <br> *Interview Exam* </h1>\n",
        "</div>\n",
        "\n",
        "<img width=\"200px\" src=\"https://app.box.com/shared/static/15slg1mvjd1zldbg3xkj9picjkmhzpa5.png\">"
      ]
    },
    {
      "cell_type": "markdown",
      "metadata": {
        "id": "oEhqOuAT0uq2",
        "colab_type": "text"
      },
      "source": [
        "---\n",
        "# Welcome\n",
        "\n",
        "Welcome! This notebook contains interview exam questions referenced in the *Instructions* section in the `README.md`—please read that first, *before* attempting to answer questions here.\n",
        "\n",
        "<div class=\"alert alert-info\" role=\"alert\" style=\"margin: 10px\">\n",
        "<p style=\"font-weight:bold\">ADVICE</p>\n",
        "<p>*Do not* read these questions, and panic, *before* reading the instructions in `README.md`.</p>\n",
        "</div>\n",
        "\n",
        "<div class=\"alert alert-warning\" role=\"alert\" style=\"margin: 10px\">\n",
        "<p style=\"font-weight:bold\">WARNING</p>\n",
        "\n",
        "<p>If using <a href=\"https://try.jupyter.org\">try.jupyter.org</a> do not rely on the server for anything you want to last - your server will be <span style=\"font-weight:bold\">deleted after 10 minutes of inactivity</span>. Save often and rember download notebook when you step away (you can always re-upload and start again)!</p>\n",
        "</div>\n",
        "\n",
        "\n",
        "## Have fun!\n",
        "\n",
        "Regardless of outcome, getting to know you is important. Give it your best shot and we'll look forward to following up!"
      ]
    },
    {
      "cell_type": "markdown",
      "metadata": {
        "id": "hureDRuF0uq4",
        "colab_type": "text"
      },
      "source": [
        "# Exam Questions"
      ]
    },
    {
      "cell_type": "markdown",
      "metadata": {
        "id": "XUwD_CRL0uq6",
        "colab_type": "text"
      },
      "source": [
        "## 1. Algo + Data Structures"
      ]
    },
    {
      "cell_type": "markdown",
      "metadata": {
        "id": "MI-Aspda0uq8",
        "colab_type": "text"
      },
      "source": [
        "### Q 1.1: Fibionacci\n",
        "![fib image](https://upload.wikimedia.org/wikipedia/commons/thumb/9/93/Fibonacci_spiral_34.svg/200px-Fibonacci_spiral_34.svg.png)"
      ]
    },
    {
      "cell_type": "markdown",
      "metadata": {
        "id": "1bQXY5ci0uq9",
        "colab_type": "text"
      },
      "source": [
        "#### Q 1.1.1\n",
        "Given $n$ where $n \\in \\mathbb{N}$ (i.e., $n$ is an integer and $n > 0$), write a function `fibonacci(n)` that computes the Fibonacci number $F_n$, where $F_n$ is defined by the recurrence relation:\n",
        "\n",
        "$$ F_n = F_{n-1} + F_{n-2}$$\n",
        "\n",
        "with initial conditions of:\n",
        "\n",
        "$$ F_1 = 1,  F_2 = 1$$"
      ]
    },
    {
      "cell_type": "code",
      "metadata": {
        "id": "re92IAPgZLop",
        "colab_type": "code",
        "colab": {
          "base_uri": "https://localhost:8080/",
          "height": 204
        },
        "outputId": "6101cd0e-1ed8-4f41-a2c6-22896c370480"
      },
      "source": [
        "def fibonacci(n):\n",
        "  return n if n<=1 else fibonacci(n-1) + fibonacci(n-2)\n",
        "n=int(input(\"Enter the number:\"))\n",
        "for i in range(n):\n",
        "  print(fibonacci(i))"
      ],
      "execution_count": 3,
      "outputs": [
        {
          "output_type": "stream",
          "text": [
            "Enter the number:10\n",
            "0\n",
            "1\n",
            "1\n",
            "2\n",
            "3\n",
            "5\n",
            "8\n",
            "13\n",
            "21\n",
            "34\n"
          ],
          "name": "stdout"
        }
      ]
    },
    {
      "cell_type": "markdown",
      "metadata": {
        "id": "3nIQ3XNx0urA",
        "colab_type": "text"
      },
      "source": [
        "#### Q 1.1.2\n",
        "What's the complexity of your implementation?"
      ]
    },
    {
      "cell_type": "markdown",
      "metadata": {
        "id": "N_1ro_edy7PI",
        "colab_type": "text"
      },
      "source": [
        "* Time complexity of above mentioned fibonacci sequence is O(2^n) which is very large as it has to compute the same function recursively."
      ]
    },
    {
      "cell_type": "markdown",
      "metadata": {
        "id": "7k2so_3b0urB",
        "colab_type": "text"
      },
      "source": [
        "#### Q 1.1.3\n",
        "Consider an alternative implementation to compute Fibonacci number $F_n$ and write a new function, `fibonacci2(n)`."
      ]
    },
    {
      "cell_type": "code",
      "metadata": {
        "id": "Rr9D5X7xZaty",
        "colab_type": "code",
        "colab": {
          "base_uri": "https://localhost:8080/",
          "height": 221
        },
        "outputId": "c07856b0-e18c-4433-b3a1-54ddb4615a14"
      },
      "source": [
        "def fibonacci2(n):\n",
        "  fib0=0\n",
        "  fib1=1\n",
        "  for i in range(n):\n",
        "    if i<=1:\n",
        "      print(i)\n",
        "    else:\n",
        "      fib2 = fib0 + fib1\n",
        "      fib0 = fib1\n",
        "      fib1 = fib2\n",
        "      print(fib2)\n",
        "\n",
        "n = int(input('Enter a number : '))\n",
        "print(\"the fibonacci series for {} term is\".format(n))\n",
        "fibonacci2(n)"
      ],
      "execution_count": 1,
      "outputs": [
        {
          "output_type": "stream",
          "text": [
            "Enter a number : 10\n",
            "the fibonacci series for 10 term is\n",
            "0\n",
            "1\n",
            "1\n",
            "2\n",
            "3\n",
            "5\n",
            "8\n",
            "13\n",
            "21\n",
            "34\n"
          ],
          "name": "stdout"
        }
      ]
    },
    {
      "cell_type": "markdown",
      "metadata": {
        "id": "fbfcrq8H0urE",
        "colab_type": "text"
      },
      "source": [
        "#### Q 1.1.4\n",
        "What's the complexity of your implementation?"
      ]
    },
    {
      "cell_type": "markdown",
      "metadata": {
        "id": "-UoX9PRq2vwp",
        "colab_type": "text"
      },
      "source": [
        "* The time complexity of the above mentioned implementation is O(n) which is very less than recursive function fibonacci."
      ]
    },
    {
      "cell_type": "markdown",
      "metadata": {
        "id": "DTyf610I0urF",
        "colab_type": "text"
      },
      "source": [
        "#### Q 1.1.5\n",
        "What are some examples of optimizations that could improve computational performance?\n"
      ]
    },
    {
      "cell_type": "code",
      "metadata": {
        "id": "mT_kZDXxZbps",
        "colab_type": "code",
        "colab": {
          "base_uri": "https://localhost:8080/",
          "height": 187
        },
        "outputId": "342da4a9-46af-49f5-c9eb-290547adfc5f"
      },
      "source": [
        "def fibb3(n):\n",
        "    if n >= 0 and n <= 1:\n",
        "        return n\n",
        "    else:\n",
        "        fib = [0, 1]\n",
        "        for i in range(2, n + 1):\n",
        "            fib.append(fib[i - 1] + fib[i - 2])\n",
        "        return fib[n]\n",
        "\n",
        "for i in range(10):\n",
        "  print(fibb3(i))"
      ],
      "execution_count": 1,
      "outputs": [
        {
          "output_type": "stream",
          "text": [
            "0\n",
            "1\n",
            "1\n",
            "2\n",
            "3\n",
            "5\n",
            "8\n",
            "13\n",
            "21\n",
            "34\n"
          ],
          "name": "stdout"
        }
      ]
    },
    {
      "cell_type": "markdown",
      "metadata": {
        "id": "UmA_6aUuzl4Y",
        "colab_type": "text"
      },
      "source": [
        "* We used technique called as memoization to store values in array format and due to which complexity decreases to O(n) which is very less than original recursive fibonacci.\n"
      ]
    },
    {
      "cell_type": "markdown",
      "metadata": {
        "id": "NEiNUbB20urG",
        "colab_type": "text"
      },
      "source": [
        "### Q 1.2: Linked List\n",
        "![ll img](https://upload.wikimedia.org/wikipedia/commons/thumb/6/6d/Singly-linked-list.svg/500px-Singly-linked-list.svg.png)"
      ]
    },
    {
      "cell_type": "markdown",
      "metadata": {
        "id": "2G9mhrRM0urJ",
        "colab_type": "text"
      },
      "source": [
        "#### Q 1.2.1\n",
        "Consider a [singly linked list](https://en.wikipedia.org/wiki/Linked_list), $L$. Write a function `is_palindrome(L)` that detects if $L$ is a [palindrome](https://en.wikipedia.org/wiki/Palindrome), by returning a bool, `True` or `False`.\n"
      ]
    },
    {
      "cell_type": "markdown",
      "metadata": {
        "id": "XC0mBRv80urL",
        "colab_type": "text"
      },
      "source": [
        "#### Q 1.2.2\n",
        "What is the complexity of your implementation?"
      ]
    },
    {
      "cell_type": "markdown",
      "metadata": {
        "id": "t7c2Ango0urM",
        "colab_type": "text"
      },
      "source": [
        "#### Q 1.2.3\n",
        "Consider an alternative implementation to detect if L is a palindrome and write a new function, `is_palindrome2(L)`."
      ]
    },
    {
      "cell_type": "markdown",
      "metadata": {
        "id": "GuAW2o9c0urP",
        "colab_type": "text"
      },
      "source": [
        "#### Q 1.2.4\n",
        "What's the complexity of this implementation?\n"
      ]
    },
    {
      "cell_type": "markdown",
      "metadata": {
        "id": "Q8up5h-O0urS",
        "colab_type": "text"
      },
      "source": [
        "#### Q 1.2.5 \n",
        "What are some examples of optimizations that could improve computational performance?\n"
      ]
    },
    {
      "cell_type": "markdown",
      "metadata": {
        "id": "Fdth4FY20urT",
        "colab_type": "text"
      },
      "source": [
        "## 2. Prob + Stats"
      ]
    },
    {
      "cell_type": "markdown",
      "metadata": {
        "id": "lFRH2mB60urU",
        "colab_type": "text"
      },
      "source": [
        "### Q 2.1: Finding $\\pi$ in a random uniform?\n",
        "<img src=https://www.epicurus.com/food/recipes/wp-content/uploads/2015/03/Pi-Day.jpg width=\"480\">\n",
        "\n",
        "Given a uniform random generator $[0,1)$ (e.g., use your language's standard libary to generate random value), write a a function `compute_pi` to compute [$\\pi$](https://en.wikipedia.org/wiki/Pi)."
      ]
    },
    {
      "cell_type": "markdown",
      "metadata": {
        "id": "YlLfjAE00urV",
        "colab_type": "text"
      },
      "source": [
        "### Q 2.2: Making a 6-side die roll a 7?\n",
        "\n",
        "Using a single 6-side die, how can you generate a random number between 1 - 7?"
      ]
    },
    {
      "cell_type": "markdown",
      "metadata": {
        "id": "T0iYJB9H0urX",
        "colab_type": "text"
      },
      "source": [
        "### Q 2.3: Is normality uniform?\n",
        "\n",
        "<img src=https://rednaxela1618.files.wordpress.com/2014/06/uniformnormal.png width=\"480\">\n",
        "\n",
        "\n",
        "Given draws from a normal distribution with known parameters, how can you simulate draws from a uniform distribution?"
      ]
    },
    {
      "cell_type": "markdown",
      "metadata": {
        "id": "rJiFwFas0urY",
        "colab_type": "text"
      },
      "source": [
        "### Q 2.4: Should you pay or should you go?\n",
        "\n",
        "![coin flip](https://lh5.ggpht.com/iwD6MnHeHVAXNBgrO7r4N9MQxxYi6wT9vb0Mqu905zTnNlBciONAA98BqafyjzC06Q=w300)\n",
        "\n",
        "Let’s say we play a game where I keep flipping a coin until I get heads. If the first time I get heads is on the nth coin, then I pay you $2^{(n-1)}$ US dollars. How much would you pay me to play this game? Explain."
      ]
    },
    {
      "cell_type": "markdown",
      "metadata": {
        "id": "bnrD1F8W0urY",
        "colab_type": "text"
      },
      "source": [
        "### Q 2.5: Uber vs. Lyft\n",
        "\n",
        "![uber vs lyft](http://usiaffinity.typepad.com/.a/6a01347fc1cb08970c01bb0876bcbe970d-pi)\n",
        "\n",
        "You request 2 UberX’s and 3 Lyfts. If the time that each takes to reach you is IID, what is the probability that all the Lyfts arrive first? What is the probability that all the UberX’s arrive first?"
      ]
    },
    {
      "cell_type": "markdown",
      "metadata": {
        "id": "VAsErvqw0urZ",
        "colab_type": "text"
      },
      "source": [
        "### Q 2.6: Pick your prize\n",
        "<img src=https://miro.medium.com/max/1100/1*m5b3O9sE68UCXjLw5oxy2g.png width=\"480\">\n",
        "\n",
        "A prize is placed at random behind one of three doors and you are asked to pick a door. To be concrete, say you always pick door 1. Now the game host chooses one of door 2 or 3, opens it and shows you that it is empty. They then give you the option to keep your picked door or switch to the unopened door. Should you stay or switch if you want to maximize your probability of winning the prize?"
      ]
    },
    {
      "cell_type": "markdown",
      "metadata": {
        "id": "pDJfNQL5Zlxq",
        "colab_type": "text"
      },
      "source": [
        "# 2.6 Pick your prize\n",
        "* If I have to explain in simple language I will explain like this:\n",
        "* If I pick door A then the probability that the price is behind that door is 1/3 and probability that gift is not behind door A is 2/3, as it can be behind any one of the doors out of A,B,C and the probability that the gift is behind any one of the door is equiprobable event and probability is equal to 1/3.\n",
        "* Now If host removes one door which doesnot have gift behind it than the Door which is remaining other than A will have the probability of having the gift as 2/3 because of the fact that in Door A the probability of having the gift is 1/3 and not having the gift is 2/3 which is equal to chosing the other door.\n",
        "# So I can conclude that if I stick with my picked door(A) than my probability of winnning is 1/3 and if I change the door than my probability of winning will be 2/3."
      ]
    },
    {
      "cell_type": "markdown",
      "metadata": {
        "id": "hQeKUspy8fvM",
        "colab_type": "text"
      },
      "source": [
        "#  "
      ]
    },
    {
      "cell_type": "markdown",
      "metadata": {
        "id": "ClnUnDRZ0urZ",
        "colab_type": "text"
      },
      "source": [
        "## 3 Conceptual ML"
      ]
    },
    {
      "cell_type": "markdown",
      "metadata": {
        "id": "iuaIJEeM0ura",
        "colab_type": "text"
      },
      "source": [
        "### Q 3.1 Why study gradient boosting or neural networks?\n",
        "\n",
        "Consider a regression setting where $X \\in \\mathbb{R}^p$ and $Y \\in \\mathbb{R}$. The goal is to come up with a function $f(X): \\mathbb{R}^p \\rightarrow \\mathbb{R}$ that minimizes the squared-error loss $(Y - f(X))^2$. Since X, Y are random variables, we seek to minimize the expectation of the squared error loss as follows\n",
        "\\begin{equation}\n",
        "EPE(f) = \\mathbb{E}\\left[(Y-f(X)^2\\right]\n",
        "\\end{equation}\n",
        "where EPE stands for expected prediction error. One can show that minimizing the expected prediction error leads to the following _regression function_\n",
        "\\begin{equation}\n",
        "f(x) = \\mathbb{E}\\left[Y|X=x\\right]\n",
        "\\end{equation}\n",
        "\n",
        "The goal of any method is to approximate the regression function above, which we denote as $\\hat{f}(x)$. For example, linear regression explicitly assumes that the regression function is approximately linear in its arguments, i.e. $\\hat{f}(x) = x^T\\beta$ while a neural network provides a nonlinear approximation of the regression function. \n",
        "\n",
        "The simplest of all these methods is [k-nearest neighbors](https://en.wikipedia.org/wiki/K-nearest_neighbors_algorithm). Given $x$ and some neighbourhood of $k$ points $N_k(x)$, $\\hat{f}(x)$ is simply the average of all $y_i|x_i \\in N_k(x)$.  Let $N$ denote the training sample size. Under mild regularity conditions on the joint probability distribution $Pr(X, Y)$, one can show that as $N \\rightarrow \\infty$, $k \\rightarrow \\infty$ such that $k/N \\rightarrow 0$, then $\\hat{f}(x) \\rightarrow f(x)$ where $\\rightarrow$ means approaches or goes to. In other words, the k-nearest neighbors algorithm converges to the ideal solution as both the training sample size and number of neighbors increase to infinity.\n",
        "\n",
        "Now given this _universal approximator_, why look any further and research other methods? Please share your thoughts.\n"
      ]
    },
    {
      "cell_type": "markdown",
      "metadata": {
        "id": "xkKyBCDA0ura",
        "colab_type": "text"
      },
      "source": [
        "### Q 3.2 Model Selection and Assesment\n",
        "\n",
        "Consider a multiclass classification problem with a large number of features $p >> N$, for e.g $p=10000, N=100$ The task is threefold\n",
        "1. Find a \"good\" subset of features that show strong _univariate_ correlation with class labels\n",
        "2. Using the \"good\" subset, build a multi class classifier\n",
        "3. Estimate the generalization error of the final model\n",
        "\n",
        "Given this dataset, outline your approach and please be sure to cover the following\n",
        "- Data splitting\n",
        "- Model Selection: either estimating the performance of different classifiers or the same classifier with different hyperparameters\n",
        "- Model Assessment: having chosen a classifier, estimating the generalization error\n",
        "\n",
        "Assume all features are numerical, the dataset contains no NULLS, outliers, etc. and doesn't require any preprocessing.\n",
        "\n"
      ]
    },
    {
      "cell_type": "markdown",
      "metadata": {
        "id": "FU9T4kZshFio",
        "colab_type": "text"
      },
      "source": [
        "# 3.2 Steps for solving this problem\n",
        "* First of all I would find out the number of classes in the classification task and see that is our data balanced or not in terms of class, means are there enough datapoints for each class or not.\n",
        "* If there is class imbalance than I would check in which class label there are less datapoints and than I will add some noise to those features with some mean and some standard deviation to do upsampling for all those classes to make balanced class dataset.\n",
        "* Now to find out the feature importance and for feature selection I would Train Random Forest regressor on top of this dataset and find out feature importance of all the features and I will rank all the features in decreasing order of importance.\n",
        "* (Random Forest regressor finds out the importance of features on basis of how frequently they are appearing at the nodes and how much reduction is done by that feature in calculation of entropy)\n",
        "* Now lets take number of features that I will be using in training the model as hyperparameter which I will tune later on how well the model performs. I will chose the number of features as [top(1000) feratures, top(500) feratures,top(100) feratures,top(10) feratures] \n",
        "* I will now do the stratified train test split of 80:20 and then I will train following models and compare and contrast the performance of each of them:\n",
        "* When the dimensions are very high there is more chance that the data is linearly seperable in high dimensional space so I will try first one vs rest Logistic regression and one vs rest Linear SVM as they can take advantage if the data is sparse and it can train faster and while trying Logistic regression I will also Check if there are any outliers by performing RANSAC and remove them from the data if they exists.\n",
        "* When the dimensionality is high even Naive bayes works very nicely so I will also test that model.\n",
        "* If linear models doesnot works we can also try GBDT and Random forests but due to high dimensional data it will take longer time to train.\n",
        "* K-NN may also give nice results but due to its very high time complexity during training time I wont try that.\n",
        "* And for all the models I would perform K-fold cross validation to tune my hyperparameters and also to see that how my model is performing.\n",
        "* I will choose performance metric based on the problem and what is the cost of mis-classification.  \n",
        "* And finally on the model which gives highest metric score on CV dataset with the best hyperparameters I will run it on my test dataset and see how well does it generalizes.\n"
      ]
    }
  ]
}